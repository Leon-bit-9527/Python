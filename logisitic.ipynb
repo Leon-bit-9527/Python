{
 "cells": [
  {
   "cell_type": "code",
   "execution_count": 1,
   "metadata": {},
   "outputs": [
    {
     "name": "stdout",
     "output_type": "stream",
     "text": [
      "[[-17.30789906]\n",
      " [  2.42595641]\n",
      " [  2.62602984]]\n"
     ]
    },
    {
     "data": {
      "text/plain": [
       "[<matplotlib.lines.Line2D at 0x25ceb037348>]"
      ]
     },
     "execution_count": 1,
     "metadata": {},
     "output_type": "execute_result"
    },
    {
     "data": {
      "image/png": "[encoded data removed]",
      "text/plain": [
       "<Figure size 432x288 with 1 Axes>"
      ]
     },
     "metadata": {
      "needs_background": "light"
     },
     "output_type": "display_data"
    }
   ],
   "source": [
    "import numpy as np\n",
    "import matplotlib.pyplot as plt\n",
    "x = np.mat([[1,2,1],[1,2,2],[1,5,4],[1,4,5],[1,2,3],[1,3,2],[1,6,5],[1,4,1],[1,6,3],[1,7,4]])\n",
    "y = np.mat([[0],[0],[1],[1],[0],[0],[1],[0],[1],[1]])\n",
    "def theta_calc(x,y,alpha=0.01,maxIter=30000):\n",
    "    theta = np.mat(np.random.randn(3,1))\n",
    "    for i in range (maxIter):\n",
    "        H = 1/(1+np.exp(-x*theta))\n",
    "        dH = x.T*(H-y)\n",
    "        theta -= alpha * dH\n",
    "    return theta\n",
    "theta = theta_calc(x,y)\n",
    "print(theta)\n",
    "plt.scatter(x[:,1][y==0].A,x[:,2][y==0].A)\n",
    "plt.scatter(x[:,1][y==1].A,x[:,2][y==1].A)\n",
    "plt.grid()\n",
    "plt.plot\n",
    "plt.show\n",
    "w0 = theta[0,0]\n",
    "w1 = theta[1,0]\n",
    "w2 = theta[2,0]\n",
    "plotx1 = np.arange(1,7,0.01)\n",
    "plotx2 = -w0/w2-w1/w2*plotx1\n",
    "plt.plot(plotx1,plotx2,c = 'r')"
   ]
  },
  {
   "cell_type": "code",
   "execution_count": null,
   "metadata": {},
   "outputs": [],
   "source": []
  }
 ],
 "metadata": {
  "kernelspec": {
   "display_name": "Python 3",
   "language": "python",
   "name": "python3"
  },
  "language_info": {
   "codemirror_mode": {
    "name": "ipython",
    "version": 3
   },
   "file_extension": ".py",
   "mimetype": "text/x-python",
   "name": "python",
   "nbconvert_exporter": "python",
   "pygments_lexer": "ipython3",
   "version": "3.7.6"
  }
 },
 "nbformat": 4,
 "nbformat_minor": 4
}
